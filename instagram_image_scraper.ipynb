{
 "cells": [
  {
   "cell_type": "code",
   "execution_count": 1,
   "metadata": {},
   "outputs": [],
   "source": [
    "from selenium import webdriver\n",
    "from selenium.webdriver.common.keys import Keys\n",
    "from selenium.webdriver.support import expected_conditions as EC\n",
    "from selenium.webdriver.common.by import By\n",
    "from selenium.webdriver.support.wait import WebDriverWait"
   ]
  },
  {
   "cell_type": "code",
   "execution_count": 2,
   "metadata": {},
   "outputs": [],
   "source": [
    "driver = webdriver.Chrome('C:/Users/mustafa/Desktop/chromedriver.exe')\n",
    "\n",
    "#open the webpage\n",
    "driver.get(\"http://www.instagram.com/\") #select the url as per your interest.\n",
    "\n",
    "\n",
    "\n",
    "WebDriverWait(driver, 10).until(EC.element_to_be_clickable((By.XPATH, '//*[@id=\"react-root\"]/section/nav/div[2]/div/div/div[3]/div/span/a[1]/button'))).click()\n",
    "\n",
    "#target username\n",
    "username = WebDriverWait(driver, 10).until(EC.element_to_be_clickable((By.CSS_SELECTOR, \"input[name='username']\")))\n",
    "password = WebDriverWait(driver, 10).until(EC.element_to_be_clickable((By.CSS_SELECTOR, \"input[name='password']\")))\n",
    "\n",
    "#enter username and password\n",
    "username.clear()\n",
    "username.send_keys(\"tempuser1570\")\n",
    "password.clear()\n",
    "password.send_keys(\"Temp1570@\")\n",
    "\n",
    "#target the login button and click it\n",
    "button = WebDriverWait(driver, 2).until(EC.element_to_be_clickable((By.CSS_SELECTOR, \"button[type='submit']\"))).click()\n",
    "\n",
    "not_now = WebDriverWait(driver, 10).until(EC.element_to_be_clickable((By.XPATH, '//button[contains(text(), \"Not Now\")]'))).click()\n",
    "# not_now2 = WebDriverWait(driver, 10).until(EC.element_to_be_clickable((By.XPATH, '//button[contains(text(), \"Not Now\")]'))).click()\n",
    "image_list = []"
   ]
  },
  {
   "cell_type": "code",
   "execution_count": 1,
   "metadata": {
    "scrolled": true
   },
   "outputs": [],
   "source": [
    "import time\n",
    "time.sleep(10)\n",
    "\n",
    "# change the number of range in for loop according to the scrolling period it takes. And for safe side, scroll 4 times slowly at once.\n",
    "for i in range(1,50):\n",
    "    #target all images on the page\n",
    "    images = driver.find_elements_by_tag_name('img')\n",
    "    print(images)\n",
    "    images = [image.get_attribute('src') for image in images]\n",
    "    images = images[:-2]\n",
    "\n",
    "    print('Number of scraped images: ', len(images))\n",
    "    image_list.append(images)\n",
    "    time.sleep(10)\n",
    "\n"
   ]
  },
  {
   "cell_type": "code",
   "execution_count": 3,
   "metadata": {},
   "outputs": [],
   "source": [
    "temp = image_list"
   ]
  },
  {
   "cell_type": "code",
   "execution_count": 12,
   "metadata": {},
   "outputs": [],
   "source": [
    "import csv\n",
    "import os\n",
    "\n",
    "file =  os.path.join(os.getcwd(),'coffee_culture.csv')\n",
    "\n",
    "if not os.path.exists(file):\n",
    "    csv_file = open(file,'w')\n",
    "    csv_writer = csv.writer(csv_file,lineterminator='\\n')\n",
    "    csv_writer.writerow(['Image Link'])\n",
    "else:\n",
    "    csv_file = open(file,'a')\n",
    "    csv_writer = csv.writer(csv_file,lineterminator='\\n')"
   ]
  },
  {
   "cell_type": "code",
   "execution_count": 13,
   "metadata": {},
   "outputs": [],
   "source": [
    "for i in temp:\n",
    "    for j in i:\n",
    "        csv_writer.writerow([j])\n",
    "        \n",
    "csv_file.close()"
   ]
  },
  {
   "cell_type": "code",
   "execution_count": 21,
   "metadata": {},
   "outputs": [],
   "source": [
    "os.mkdir(os.path.join(os.getcwd(),'Coffee'))"
   ]
  },
  {
   "cell_type": "code",
   "execution_count": 32,
   "metadata": {},
   "outputs": [
    {
     "name": "stdout",
     "output_type": "stream",
     "text": [
      "100% [..............................................................................] 54734 / 54734"
     ]
    }
   ],
   "source": [
    "import pandas as pd\n",
    "import wget\n",
    "\n",
    "df = pd.read_csv(file)\n",
    "\n",
    "\n",
    "link = df['Image Link']\n",
    "\n",
    "for i,image in enumerate(link[13:]):\n",
    "    path = \"Coffee\\coffee{}.png\".format(i+1)\n",
    "    save_path = os.path.join(os.getcwd(),path)\n",
    "    wget.download(image, save_path)\n",
    "    \n",
    "    \n",
    "\n"
   ]
  },
  {
   "cell_type": "code",
   "execution_count": null,
   "metadata": {},
   "outputs": [],
   "source": []
  }
 ],
 "metadata": {
  "kernelspec": {
   "display_name": "Python 3",
   "language": "python",
   "name": "python3"
  },
  "language_info": {
   "codemirror_mode": {
    "name": "ipython",
    "version": 3
   },
   "file_extension": ".py",
   "mimetype": "text/x-python",
   "name": "python",
   "nbconvert_exporter": "python",
   "pygments_lexer": "ipython3",
   "version": "3.8.6"
  }
 },
 "nbformat": 4,
 "nbformat_minor": 4
}
